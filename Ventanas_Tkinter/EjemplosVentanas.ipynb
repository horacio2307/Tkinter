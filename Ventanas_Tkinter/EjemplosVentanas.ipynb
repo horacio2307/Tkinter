{
 "metadata": {
  "language_info": {
   "codemirror_mode": {
    "name": "ipython",
    "version": 3
   },
   "file_extension": ".py",
   "mimetype": "text/x-python",
   "name": "python",
   "nbconvert_exporter": "python",
   "pygments_lexer": "ipython3",
   "version": 3
  },
  "orig_nbformat": 2
 },
 "nbformat": 4,
 "nbformat_minor": 2,
 "cells": [
  {
   "cell_type": "code",
   "execution_count": 6,
   "metadata": {},
   "outputs": [],
   "source": [
    "#Usamos el método 'iconify' en un botón para minimizar la ventana cuando se haga click sobre él:\n",
    "import tkinter\n",
    "\n",
    "root = Tk()\n",
    "boton = Button(root, text=\"Minimizar\", command=root.iconify)\n",
    "boton.pack()\n",
    "root.mainloop()"
   ]
  },
  {
   "cell_type": "code",
   "execution_count": 7,
   "metadata": {},
   "outputs": [],
   "source": [
    "#creamos un botón que abre otra ventana y minimiza la ventana padre\n",
    "import tkinter \n",
    "\n",
    "def funcion():\n",
    "    #Crear un siguiente nivel\n",
    "    otra_ventana = Toplevel(root)\n",
    "    #Miminizar la principal\n",
    "    root.iconify()\n",
    "\n",
    "root = Tk()\n",
    "root.title(\"Juan\")\n",
    "boton = Button(root, text=\"Abrir otra ventana\", command=funcion)\n",
    "boton.pack()\n",
    "root.mainloop()"
   ]
  },
  {
   "cell_type": "code",
   "execution_count": 8,
   "metadata": {},
   "outputs": [],
   "source": [
    "#Cuando hacemos click en el botón 'Minimizar' este se minimiza pero pasado 5 segundos se vuelve a restaurar la ventana.\n",
    "import tkinter\n",
    "import time\n",
    "\n",
    "def funcion():\n",
    "    root.iconify()\n",
    "    time.sleep(5)\n",
    "    root.deiconify()\n",
    "\n",
    "root = Tk()\n",
    "boton = Button(root, text=\"Minimizar\", command=funcion)\n",
    "boton.pack()\n",
    "root.mainloop()"
   ]
  },
  {
   "cell_type": "code",
   "execution_count": 17,
   "metadata": {},
   "outputs": [],
   "source": [
    "#Titulo hereditario\n",
    "import tkinter\n",
    "\n",
    "root = Tk()\n",
    "root.title(\"Juan\")\n",
    "ventana=Toplevel(root)\n",
    "root.mainloop()"
   ]
  },
  {
   "cell_type": "code",
   "execution_count": null,
   "metadata": {},
   "outputs": [],
   "source": [
    "import tkinter\n",
    "import time\n",
    "\n",
    "def funcion():\n",
    "    root.state(newstate='withdraw')\n",
    "    time.sleep(5)\n",
    "    root.state(newstate='normal')\n",
    "\n",
    "root = Tk()\n",
    "boton = Button(root, text=\"Minimizar\", command=funcion)\n",
    "boton.pack()\n",
    "root.mainloop()"
   ]
  }
 ]
}